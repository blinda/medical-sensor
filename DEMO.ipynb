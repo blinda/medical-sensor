{
 "cells": [
  {
   "cell_type": "code",
   "execution_count": 27,
   "metadata": {},
   "outputs": [],
   "source": [
    "from simulate_sensor import Sensor"
   ]
  },
  {
   "cell_type": "code",
   "execution_count": 28,
   "metadata": {},
   "outputs": [],
   "source": [
    "#Start the sensor with ID 1234 of patient Marco\n",
    "marco = Sensor('1234')"
   ]
  },
  {
   "cell_type": "code",
   "execution_count": 26,
   "metadata": {},
   "outputs": [
    {
     "data": {
      "text/plain": [
       "{'HB': [80.14122584725975],\n",
       " 'ID': '1234',\n",
       " 'O2': [96.9151297885538],\n",
       " 'Pd': [80.20262175336944],\n",
       " 'Ps': [119.72070956435671],\n",
       " 'T': [36.43797721474994],\n",
       " '_args': (),\n",
       " '_daemonic': False,\n",
       " '_ident': None,\n",
       " '_initialized': True,\n",
       " '_is_running': True,\n",
       " '_is_stopped': False,\n",
       " '_kwargs': {},\n",
       " '_name': 'Thread-8',\n",
       " '_started': <threading.Event at 0x7f2898baa048>,\n",
       " '_stderr': <ipykernel.iostream.OutStream at 0x7f289550d9e8>,\n",
       " '_target': None,\n",
       " '_tstate_lock': None,\n",
       " 'readable': Empty DataFrame\n",
       " Columns: []\n",
       " Index: []}"
      ]
     },
     "execution_count": 26,
     "metadata": {},
     "output_type": "execute_result"
    }
   ],
   "source": [
    "marco.HB\n",
    "marco.__dict__"
   ]
  },
  {
   "cell_type": "code",
   "execution_count": 29,
   "metadata": {},
   "outputs": [
    {
     "data": {
      "text/html": [
       "<div>\n",
       "<style scoped>\n",
       "    .dataframe tbody tr th:only-of-type {\n",
       "        vertical-align: middle;\n",
       "    }\n",
       "\n",
       "    .dataframe tbody tr th {\n",
       "        vertical-align: top;\n",
       "    }\n",
       "\n",
       "    .dataframe thead th {\n",
       "        text-align: right;\n",
       "    }\n",
       "</style>\n",
       "<table border=\"1\" class=\"dataframe\">\n",
       "  <thead>\n",
       "    <tr style=\"text-align: right;\">\n",
       "      <th></th>\n",
       "      <th>HB [bpm]</th>\n",
       "      <th>ID</th>\n",
       "      <th>O2 levels [%]</th>\n",
       "      <th>P diastolic</th>\n",
       "      <th>P systolic</th>\n",
       "      <th>T [C]</th>\n",
       "    </tr>\n",
       "    <tr>\n",
       "      <th>Time</th>\n",
       "      <th></th>\n",
       "      <th></th>\n",
       "      <th></th>\n",
       "      <th></th>\n",
       "      <th></th>\n",
       "      <th></th>\n",
       "    </tr>\n",
       "  </thead>\n",
       "  <tbody>\n",
       "    <tr>\n",
       "      <th>1</th>\n",
       "      <td>80.25027</td>\n",
       "      <td>1234</td>\n",
       "      <td>97.243172</td>\n",
       "      <td>79.989952</td>\n",
       "      <td>119.938748</td>\n",
       "      <td>36.442197</td>\n",
       "    </tr>\n",
       "  </tbody>\n",
       "</table>\n",
       "</div>"
      ],
      "text/plain": [
       "      HB [bpm]    ID  O2 levels [%]  P diastolic  P systolic      T [C]\n",
       "Time                                                                   \n",
       "1     80.25027  1234      97.243172    79.989952  119.938748  36.442197"
      ]
     },
     "execution_count": 29,
     "metadata": {},
     "output_type": "execute_result"
    }
   ],
   "source": [
    "marco.get_patient(1)\n",
    "marco.readable"
   ]
  },
  {
   "cell_type": "code",
   "execution_count": 30,
   "metadata": {},
   "outputs": [],
   "source": [
    "# Start the thread of Marco. \n",
    "marco.start()"
   ]
  },
  {
   "cell_type": "code",
   "execution_count": 37,
   "metadata": {},
   "outputs": [
    {
     "data": {
      "text/html": [
       "<div>\n",
       "<style scoped>\n",
       "    .dataframe tbody tr th:only-of-type {\n",
       "        vertical-align: middle;\n",
       "    }\n",
       "\n",
       "    .dataframe tbody tr th {\n",
       "        vertical-align: top;\n",
       "    }\n",
       "\n",
       "    .dataframe thead th {\n",
       "        text-align: right;\n",
       "    }\n",
       "</style>\n",
       "<table border=\"1\" class=\"dataframe\">\n",
       "  <thead>\n",
       "    <tr style=\"text-align: right;\">\n",
       "      <th></th>\n",
       "      <th>HB [bpm]</th>\n",
       "      <th>ID</th>\n",
       "      <th>O2 levels [%]</th>\n",
       "      <th>P diastolic</th>\n",
       "      <th>P systolic</th>\n",
       "      <th>T [C]</th>\n",
       "    </tr>\n",
       "    <tr>\n",
       "      <th>Time</th>\n",
       "      <th></th>\n",
       "      <th></th>\n",
       "      <th></th>\n",
       "      <th></th>\n",
       "      <th></th>\n",
       "      <th></th>\n",
       "    </tr>\n",
       "  </thead>\n",
       "  <tbody>\n",
       "    <tr>\n",
       "      <th>17:11:16</th>\n",
       "      <td>80.25027</td>\n",
       "      <td>1234</td>\n",
       "      <td>97.243172</td>\n",
       "      <td>79.989952</td>\n",
       "      <td>119.938748</td>\n",
       "      <td>36.442197</td>\n",
       "    </tr>\n",
       "  </tbody>\n",
       "</table>\n",
       "</div>"
      ],
      "text/plain": [
       "          HB [bpm]    ID  O2 levels [%]  P diastolic  P systolic      T [C]\n",
       "Time                                                                       \n",
       "17:11:16  80.25027  1234      97.243172    79.989952  119.938748  36.442197"
      ]
     },
     "execution_count": 37,
     "metadata": {},
     "output_type": "execute_result"
    }
   ],
   "source": [
    "marco.readable"
   ]
  },
  {
   "cell_type": "code",
   "execution_count": 38,
   "metadata": {},
   "outputs": [
    {
     "name": "stdout",
     "output_type": "stream",
     "text": [
      "Patent 1234 thread stopped\n"
     ]
    }
   ],
   "source": [
    "# Stop Marco's thread\n",
    "marco.stop()"
   ]
  },
  {
   "cell_type": "code",
   "execution_count": 39,
   "metadata": {},
   "outputs": [],
   "source": [
    "from patients import initiate_patient_list, get_patient_list, stop_patient_list"
   ]
  },
  {
   "cell_type": "code",
   "execution_count": 40,
   "metadata": {},
   "outputs": [],
   "source": [
    "# We have three sensors with ID in patient_list\n",
    "patient_list = ['1', '2', '3']"
   ]
  },
  {
   "cell_type": "code",
   "execution_count": 41,
   "metadata": {},
   "outputs": [],
   "source": [
    "# start the thread for the three sensors\n",
    "patients = initiate_patient_list(patient_list)"
   ]
  },
  {
   "cell_type": "code",
   "execution_count": 45,
   "metadata": {},
   "outputs": [
    {
     "data": {
      "text/html": [
       "<div>\n",
       "<style scoped>\n",
       "    .dataframe tbody tr th:only-of-type {\n",
       "        vertical-align: middle;\n",
       "    }\n",
       "\n",
       "    .dataframe tbody tr th {\n",
       "        vertical-align: top;\n",
       "    }\n",
       "\n",
       "    .dataframe thead th {\n",
       "        text-align: right;\n",
       "    }\n",
       "</style>\n",
       "<table border=\"1\" class=\"dataframe\">\n",
       "  <thead>\n",
       "    <tr style=\"text-align: right;\">\n",
       "      <th></th>\n",
       "      <th>HB [bpm]</th>\n",
       "      <th>ID</th>\n",
       "      <th>O2 levels [%]</th>\n",
       "      <th>P diastolic</th>\n",
       "      <th>P systolic</th>\n",
       "      <th>T [C]</th>\n",
       "    </tr>\n",
       "    <tr>\n",
       "      <th>Time</th>\n",
       "      <th></th>\n",
       "      <th></th>\n",
       "      <th></th>\n",
       "      <th></th>\n",
       "      <th></th>\n",
       "      <th></th>\n",
       "    </tr>\n",
       "  </thead>\n",
       "  <tbody>\n",
       "    <tr>\n",
       "      <th>17:12:36</th>\n",
       "      <td>79.324274</td>\n",
       "      <td>1</td>\n",
       "      <td>96.865618</td>\n",
       "      <td>80.568865</td>\n",
       "      <td>120.009109</td>\n",
       "      <td>36.474541</td>\n",
       "    </tr>\n",
       "    <tr>\n",
       "      <th>17:12:41</th>\n",
       "      <td>79.324274</td>\n",
       "      <td>1</td>\n",
       "      <td>96.865618</td>\n",
       "      <td>80.568865</td>\n",
       "      <td>120.009109</td>\n",
       "      <td>36.474541</td>\n",
       "    </tr>\n",
       "  </tbody>\n",
       "</table>\n",
       "</div>"
      ],
      "text/plain": [
       "           HB [bpm] ID  O2 levels [%]  P diastolic  P systolic      T [C]\n",
       "Time                                                                     \n",
       "17:12:36  79.324274  1      96.865618    80.568865  120.009109  36.474541\n",
       "17:12:41  79.324274  1      96.865618    80.568865  120.009109  36.474541"
      ]
     },
     "execution_count": 45,
     "metadata": {},
     "output_type": "execute_result"
    }
   ],
   "source": [
    "patients['1'].readable"
   ]
  },
  {
   "cell_type": "code",
   "execution_count": 46,
   "metadata": {},
   "outputs": [
    {
     "name": "stdout",
     "output_type": "stream",
     "text": [
      "Patent 2 thread stopped\n",
      "Patent 3 thread stopped\n",
      "Patent 1 thread stopped\n"
     ]
    }
   ],
   "source": [
    "# Stop threads\n",
    "stop_patient_list(patients)"
   ]
  },
  {
   "cell_type": "code",
   "execution_count": null,
   "metadata": {},
   "outputs": [],
   "source": []
  }
 ],
 "metadata": {
  "kernelspec": {
   "display_name": "Python 3",
   "language": "python",
   "name": "python3"
  },
  "language_info": {
   "codemirror_mode": {
    "name": "ipython",
    "version": 3
   },
   "file_extension": ".py",
   "mimetype": "text/x-python",
   "name": "python",
   "nbconvert_exporter": "python",
   "pygments_lexer": "ipython3",
   "version": "3.5.2"
  }
 },
 "nbformat": 4,
 "nbformat_minor": 2
}
